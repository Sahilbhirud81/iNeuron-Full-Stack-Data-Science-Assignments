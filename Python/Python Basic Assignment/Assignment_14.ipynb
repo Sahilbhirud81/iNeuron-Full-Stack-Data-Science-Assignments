{
 "cells": [
  {
   "cell_type": "markdown",
   "id": "4a022716",
   "metadata": {},
   "source": [
    "# Python Basic Assignment 14"
   ]
  },
  {
   "cell_type": "markdown",
   "id": "c3ee6cca",
   "metadata": {},
   "source": [
    "**1. What does RGBA stand for?<br>\n",
    "Ans:**\n",
    "RGBA: Red-Green-Blue-Alpha\n",
    "\n",
    "**2.From the Pillow module, how do you get the RGBA value of any images?<br>\n",
    "Ans:**\n",
    "from PIL import ImageColor\n",
    "\n",
    "ImageColor.getcolor(color_name, 'RGBA')\n",
    "\n",
    "**3.What is a box tuple, and how does it work?<br>\n",
    "Ans:**\n",
    "Many Pillow's function take box tuple argument. This means pillow is taking a tuple of four integer coordinates that expecting a rectangular region in image. The four integers are in order left, top, right, bottom.\n",
    "\n",
    "**4.Use your image and load in notebook then, How can you find out the width and height of an Image object?**<br>"
   ]
  },
  {
   "cell_type": "code",
   "execution_count": 4,
   "id": "0ba63f49",
   "metadata": {},
   "outputs": [
    {
     "name": "stdout",
     "output_type": "stream",
     "text": [
      "Width, Height -> (1920, 1080)\n",
      "Width, Height -> 1920,1080\n",
      "Width, Height -> 1920,1080\n"
     ]
    }
   ],
   "source": [
    "#Example Program\n",
    "from PIL import Image\n",
    "pic = Image.open('Pic.jpg')\n",
    "print(f'Width, Height -> {pic.size}') # Approach 1\n",
    "print(f'Width, Height -> {pic.width},{pic.height}') # Approach 2\n",
    "width,height = pic.size\n",
    "print(f'Width, Height -> {width},{height}') # Approach 3"
   ]
  },
  {
   "cell_type": "markdown",
   "id": "e9097688",
   "metadata": {},
   "source": [
    "**5. What method would you call to get Image object for a 100×100 image, excluding the lower-left quarter of it?<br>**"
   ]
  },
  {
   "cell_type": "code",
   "execution_count": 5,
   "id": "9c7b9024",
   "metadata": {},
   "outputs": [],
   "source": [
    "from PIL import Image\n",
    "img = Image.open('Pic.jpg')\n",
    "new_img = img.crop((0,50,50,50))"
   ]
  },
  {
   "cell_type": "markdown",
   "id": "b234fd19",
   "metadata": {},
   "source": [
    "**6. After making changes to an Image object, how could you save it as an image file?<br>**"
   ]
  },
  {
   "cell_type": "code",
   "execution_count": 7,
   "id": "d4ccdc50",
   "metadata": {},
   "outputs": [],
   "source": [
    "#Example Program\n",
    "from PIL import Image\n",
    "pic = Image.open('pic.jpg')\n",
    "pic.save('pic2.jpg')"
   ]
  },
  {
   "cell_type": "markdown",
   "id": "9c415249",
   "metadata": {},
   "source": [
    "**7. What module contains Pillow’s shape-drawing code?<br>\n",
    "Ans:** Pillows ImageDraw module contains Shape drawing methods"
   ]
  },
  {
   "cell_type": "markdown",
   "id": "26e3ca7b",
   "metadata": {},
   "source": [
    "**8. Image objects do not have drawing methods. What kind of object does? How do you get this kind of object?<br>\n",
    "Ans:** ImageDraw objects have shape-drawing methods such as point(), line(), or rectangle().They are returned by passing the Image object to the ImageDraw.Draw() function."
   ]
  },
  {
   "cell_type": "code",
   "execution_count": null,
   "id": "8f4af099",
   "metadata": {},
   "outputs": [],
   "source": []
  }
 ],
 "metadata": {
  "kernelspec": {
   "display_name": "Python 3 (ipykernel)",
   "language": "python",
   "name": "python3"
  },
  "language_info": {
   "codemirror_mode": {
    "name": "ipython",
    "version": 3
   },
   "file_extension": ".py",
   "mimetype": "text/x-python",
   "name": "python",
   "nbconvert_exporter": "python",
   "pygments_lexer": "ipython3",
   "version": "3.9.12"
  }
 },
 "nbformat": 4,
 "nbformat_minor": 5
}
