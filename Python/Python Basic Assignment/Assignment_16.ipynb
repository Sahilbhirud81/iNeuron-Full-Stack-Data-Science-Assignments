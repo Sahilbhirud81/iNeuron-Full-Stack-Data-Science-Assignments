{
 "cells": [
  {
   "cell_type": "markdown",
   "id": "dd36586d",
   "metadata": {},
   "source": [
    "# Assignment 16 Solutions"
   ]
  },
  {
   "cell_type": "markdown",
   "id": "477cc518",
   "metadata": {},
   "source": [
    "**1. Create a list called years_list, starting with the year of your birth, and each year thereafter until the year of your fifth birthday. For example, if you were born in 1980. the list would be years_list = [1980, 1981, 1982, 1983, 1984, 1985].**"
   ]
  },
  {
   "cell_type": "code",
   "execution_count": 4,
   "id": "1f3bf533",
   "metadata": {},
   "outputs": [
    {
     "name": "stdout",
     "output_type": "stream",
     "text": [
      "[1997, 1998, 1999, 2000, 2001, 2002]\n"
     ]
    }
   ],
   "source": [
    "years_list=[ele for ele in range(1997,1997+6)]\n",
    "print(years_list)\n"
   ]
  },
  {
   "cell_type": "markdown",
   "id": "9479ab63",
   "metadata": {},
   "source": [
    "**2. In which year in years_list was your third birthday? Remember, you were 0 years of age for your first year.**"
   ]
  },
  {
   "cell_type": "code",
   "execution_count": 5,
   "id": "66f3ddba",
   "metadata": {},
   "outputs": [
    {
     "name": "stdout",
     "output_type": "stream",
     "text": [
      "2000\n"
     ]
    }
   ],
   "source": [
    "print(years_list[3])"
   ]
  },
  {
   "cell_type": "markdown",
   "id": "80d1593d",
   "metadata": {},
   "source": [
    "**3.In the years list, which year were you the oldest?**"
   ]
  },
  {
   "cell_type": "code",
   "execution_count": 6,
   "id": "f647947b",
   "metadata": {},
   "outputs": [
    {
     "name": "stdout",
     "output_type": "stream",
     "text": [
      "2002\n"
     ]
    }
   ],
   "source": [
    "print(years_list[-1])"
   ]
  },
  {
   "cell_type": "markdown",
   "id": "a32e3111",
   "metadata": {},
   "source": [
    "**4. Make a list called things with these three strings as elements: \"mozzarella\", \"cinderella\", \"salmonella\".**"
   ]
  },
  {
   "cell_type": "code",
   "execution_count": 7,
   "id": "0d753f5c",
   "metadata": {},
   "outputs": [
    {
     "name": "stdout",
     "output_type": "stream",
     "text": [
      "['mozzarella', 'cinderella', 'salmonella']\n"
     ]
    }
   ],
   "source": [
    "things = [ele+'ella' for ele in ['mozzar','cinder','salmon']]\n",
    "print(things)"
   ]
  },
  {
   "cell_type": "markdown",
   "id": "4d2ce57f",
   "metadata": {},
   "source": [
    "**5. Capitalize the element in things that refers to a person and then print the list. Did it change the element in the list?**"
   ]
  },
  {
   "cell_type": "code",
   "execution_count": 8,
   "id": "477dc766",
   "metadata": {},
   "outputs": [
    {
     "name": "stdout",
     "output_type": "stream",
     "text": [
      "['mozzarella', 'Cinderella', 'salmonella']\n"
     ]
    }
   ],
   "source": [
    "for ele in range(len(things)):\n",
    "    if things[ele] == 'cinderella':\n",
    "        things[ele] = things[ele].capitalize()\n",
    "print(things)"
   ]
  },
  {
   "cell_type": "markdown",
   "id": "74ff2fe0",
   "metadata": {},
   "source": [
    "**6. Make a surprise list with the elements \"Groucho,\" \"Chico,\" and \"Harpo.\"**"
   ]
  },
  {
   "cell_type": "code",
   "execution_count": 9,
   "id": "d500e4aa",
   "metadata": {},
   "outputs": [
    {
     "name": "stdout",
     "output_type": "stream",
     "text": [
      "['Groucho', 'Chico', 'Harpo']\n"
     ]
    }
   ],
   "source": [
    "suprise_list = ['Groucho','Chico','Harpo']\n",
    "print(suprise_list)"
   ]
  },
  {
   "cell_type": "markdown",
   "id": "de0588d9",
   "metadata": {},
   "source": [
    "**7. Lowercase the last element of the surprise list, reverse it, and then capitalize it.**"
   ]
  },
  {
   "cell_type": "code",
   "execution_count": 10,
   "id": "f6f26a67",
   "metadata": {},
   "outputs": [
    {
     "name": "stdout",
     "output_type": "stream",
     "text": [
      "Oprah\n"
     ]
    }
   ],
   "source": [
    "print(suprise_list[-1].lower()[::-1].capitalize())"
   ]
  },
  {
   "cell_type": "markdown",
   "id": "44bd1a8e",
   "metadata": {},
   "source": [
    "**8. Make an English-to-French dictionary called e2f and print it. Here are your starter words: dog is chien, cat is chat, and walrus is morse.**"
   ]
  },
  {
   "cell_type": "code",
   "execution_count": 11,
   "id": "10b43c81",
   "metadata": {},
   "outputs": [
    {
     "name": "stdout",
     "output_type": "stream",
     "text": [
      "{'dog': 'chien', 'cat': 'chat', 'walrus': 'morse'}\n"
     ]
    }
   ],
   "source": [
    "e2f = {'dog':'chien','cat':'chat','walrus':'morse'}\n",
    "print(e2f)"
   ]
  },
  {
   "cell_type": "markdown",
   "id": "e84327ff",
   "metadata": {},
   "source": [
    "**9. Write the French word for walrus in your three-word dictionary e2f.**"
   ]
  },
  {
   "cell_type": "code",
   "execution_count": 12,
   "id": "8d43bd51",
   "metadata": {},
   "outputs": [
    {
     "name": "stdout",
     "output_type": "stream",
     "text": [
      "morse\n"
     ]
    }
   ],
   "source": [
    "print(e2f.get('walrus'))"
   ]
  },
  {
   "cell_type": "markdown",
   "id": "801da97b",
   "metadata": {},
   "source": [
    "**10. Make a French-to-English dictionary called f2e from e2f. Use the items method.**"
   ]
  },
  {
   "cell_type": "code",
   "execution_count": 13,
   "id": "4deacfc0",
   "metadata": {},
   "outputs": [
    {
     "name": "stdout",
     "output_type": "stream",
     "text": [
      "{'chien': 'dog', 'chat': 'cat', 'morse': 'walrus'}\n"
     ]
    }
   ],
   "source": [
    "f2e = dict([ele[::-1] for ele in e2f.items()])\n",
    "print(f2e)"
   ]
  },
  {
   "cell_type": "markdown",
   "id": "caecf2a1",
   "metadata": {},
   "source": [
    "**11. Print the English version of the French word chien using f2e.**"
   ]
  },
  {
   "cell_type": "code",
   "execution_count": 14,
   "id": "db8a1cf7",
   "metadata": {},
   "outputs": [
    {
     "name": "stdout",
     "output_type": "stream",
     "text": [
      "dog\n"
     ]
    }
   ],
   "source": [
    "print(f2e.get('chien'))"
   ]
  },
  {
   "cell_type": "markdown",
   "id": "82f18c57",
   "metadata": {},
   "source": [
    "**12. Make and print a set of English words from the keys in e2f.**"
   ]
  },
  {
   "cell_type": "code",
   "execution_count": 15,
   "id": "6d42837c",
   "metadata": {},
   "outputs": [
    {
     "name": "stdout",
     "output_type": "stream",
     "text": [
      "['dog', 'cat', 'walrus']\n"
     ]
    }
   ],
   "source": [
    "print(list(e2f.keys()))"
   ]
  },
  {
   "cell_type": "markdown",
   "id": "9205c123",
   "metadata": {},
   "source": [
    "**13. Make a multilevel dictionary called life. Use these strings for the topmost keys: 'animals', 'plants', and 'other'. Make the 'animals' key refer to another dictionary with the keys 'cats', 'octopi', and 'emus'. Make the 'cats' key refer to a list of strings with the values 'Henri', 'Grumpy', and 'Lucy'. Make all the other keys refer to empty dictionaries.**"
   ]
  },
  {
   "cell_type": "code",
   "execution_count": 16,
   "id": "806c28b9",
   "metadata": {},
   "outputs": [
    {
     "name": "stdout",
     "output_type": "stream",
     "text": [
      "{'animals': {'cats': ['Henri', 'Grumpy', 'Lucy'], 'octopi': {}, 'emus': {}}, 'plants': {}, 'other': {}}\n"
     ]
    }
   ],
   "source": [
    "life = {\n",
    "    'animals':{\n",
    "        'cats':['Henri','Grumpy','Lucy'],\n",
    "        'octopi':{},\n",
    "        'emus':{}\n",
    "    },\n",
    "    'plants':{},\n",
    "    'other':{}\n",
    "}\n",
    "print(life)"
   ]
  },
  {
   "cell_type": "markdown",
   "id": "5ba833bf",
   "metadata": {},
   "source": [
    "**14. Print the top-level keys of life.**"
   ]
  },
  {
   "cell_type": "code",
   "execution_count": 17,
   "id": "2c70b492",
   "metadata": {
    "scrolled": true
   },
   "outputs": [
    {
     "name": "stdout",
     "output_type": "stream",
     "text": [
      "['animals', 'plants', 'other']\n"
     ]
    }
   ],
   "source": [
    "print(list(life.keys()))"
   ]
  },
  {
   "cell_type": "markdown",
   "id": "0726128b",
   "metadata": {},
   "source": [
    "**15. Print the keys for life['animals'].**"
   ]
  },
  {
   "cell_type": "code",
   "execution_count": 18,
   "id": "50591e86",
   "metadata": {},
   "outputs": [
    {
     "name": "stdout",
     "output_type": "stream",
     "text": [
      "['cats', 'octopi', 'emus']\n"
     ]
    }
   ],
   "source": [
    "print(list(life['animals'].keys()))"
   ]
  },
  {
   "cell_type": "markdown",
   "id": "4118a255",
   "metadata": {},
   "source": [
    "**16. Print the values for life['animals']['cats']**"
   ]
  },
  {
   "cell_type": "code",
   "execution_count": 20,
   "id": "0f8972df",
   "metadata": {},
   "outputs": [
    {
     "name": "stdout",
     "output_type": "stream",
     "text": [
      "['Henri', 'Grumpy', 'Lucy']\n"
     ]
    }
   ],
   "source": [
    "print(life['animals']['cats'])"
   ]
  }
 ],
 "metadata": {
  "kernelspec": {
   "display_name": "Python 3 (ipykernel)",
   "language": "python",
   "name": "python3"
  },
  "language_info": {
   "codemirror_mode": {
    "name": "ipython",
    "version": 3
   },
   "file_extension": ".py",
   "mimetype": "text/x-python",
   "name": "python",
   "nbconvert_exporter": "python",
   "pygments_lexer": "ipython3",
   "version": "3.9.12"
  }
 },
 "nbformat": 4,
 "nbformat_minor": 5
}
