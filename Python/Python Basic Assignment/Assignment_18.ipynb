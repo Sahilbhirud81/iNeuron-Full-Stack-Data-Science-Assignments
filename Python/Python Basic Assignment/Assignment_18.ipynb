{
 "cells": [
  {
   "cell_type": "markdown",
   "id": "cf1fee7a",
   "metadata": {},
   "source": [
    "# Assignment 18 Solutions"
   ]
  },
  {
   "cell_type": "code",
   "execution_count": 25,
   "id": "4b14db73",
   "metadata": {},
   "outputs": [
    {
     "name": "stdout",
     "output_type": "stream",
     "text": [
      "#!/usr/bin/env python\n",
      "# coding: utf-8\n",
      "\n",
      "# In[ ]:\n",
      "\n",
      "\n",
      "def hours():\n",
      "    print(\"Open 9-5 daily\")\n",
      "\n"
     ]
    }
   ],
   "source": [
    "!type zoo.py"
   ]
  },
  {
   "cell_type": "markdown",
   "id": "a4544cd9",
   "metadata": {},
   "source": [
    "**1. Create a zoo.py file first. Define the hours() function, which prints the string 'Open 9-5 daily'. Then, use the interactive interpreter to import the zoo module and call its hours() function.**"
   ]
  },
  {
   "cell_type": "code",
   "execution_count": 1,
   "id": "7154e03f",
   "metadata": {},
   "outputs": [
    {
     "name": "stdout",
     "output_type": "stream",
     "text": [
      "Open 9-5 daily\n"
     ]
    }
   ],
   "source": [
    "import zoo\n",
    "zoo.hours()"
   ]
  },
  {
   "cell_type": "markdown",
   "id": "3a2a356c",
   "metadata": {},
   "source": [
    "**2. In the interactive interpreter, import the zoo module as menagerie and call its hours() function.**"
   ]
  },
  {
   "cell_type": "code",
   "execution_count": 2,
   "id": "8637814c",
   "metadata": {},
   "outputs": [
    {
     "name": "stdout",
     "output_type": "stream",
     "text": [
      "Open 9-5 daily\n"
     ]
    }
   ],
   "source": [
    "import zoo as menagerie\n",
    "menagerie.hours()"
   ]
  },
  {
   "cell_type": "markdown",
   "id": "60118715",
   "metadata": {},
   "source": [
    "**3. Using the interpreter, explicitly import and call the hours() function from zoo.**"
   ]
  },
  {
   "cell_type": "code",
   "execution_count": 3,
   "id": "10c79bb3",
   "metadata": {},
   "outputs": [
    {
     "name": "stdout",
     "output_type": "stream",
     "text": [
      "Open 9-5 daily\n"
     ]
    }
   ],
   "source": [
    "from zoo import hours\n",
    "hours()"
   ]
  },
  {
   "cell_type": "markdown",
   "id": "fca36586",
   "metadata": {},
   "source": [
    "**4. Import the hours() function as info and call it.**"
   ]
  },
  {
   "cell_type": "code",
   "execution_count": 4,
   "id": "c5acaaba",
   "metadata": {},
   "outputs": [
    {
     "name": "stdout",
     "output_type": "stream",
     "text": [
      "Open 9-5 daily\n"
     ]
    }
   ],
   "source": [
    "from zoo import hours as info\n",
    "info()\n"
   ]
  },
  {
   "cell_type": "markdown",
   "id": "07db9ae1",
   "metadata": {},
   "source": [
    "**5. Create a plain dictionary with the key-value pairs 'a': 1, 'b': 2, and 'c': 3, and print it out.**"
   ]
  },
  {
   "cell_type": "code",
   "execution_count": 30,
   "id": "0145380a",
   "metadata": {},
   "outputs": [
    {
     "name": "stdout",
     "output_type": "stream",
     "text": [
      "{'a': 1, 'b': 2, 'c': 3}\n"
     ]
    }
   ],
   "source": [
    "plain_dict = {'a':1,'b':2,'c':3}\n",
    "print(plain_dict)"
   ]
  },
  {
   "cell_type": "markdown",
   "id": "bcef620c",
   "metadata": {},
   "source": [
    "**6.Make an OrderedDict called fancy from the same pairs listed in 5 and print it. Did it print in the same order as plain?**"
   ]
  },
  {
   "cell_type": "code",
   "execution_count": 31,
   "id": "fdc41de2",
   "metadata": {},
   "outputs": [
    {
     "name": "stdout",
     "output_type": "stream",
     "text": [
      "plain_dict -> {'a': 1, 'b': 2, 'c': 3}\n",
      "fancy -> OrderedDict([('a', 1), ('b', 2), ('c', 3)])\n"
     ]
    }
   ],
   "source": [
    "from collections import OrderedDict\n",
    "fancy = OrderedDict(plain_dict)\n",
    "print(f'plain_dict -> {plain_dict}')\n",
    "print(f'fancy -> {fancy}')"
   ]
  },
  {
   "cell_type": "markdown",
   "id": "331ab4eb",
   "metadata": {},
   "source": [
    "**7. Make a default dictionary called dict_of_lists and pass it the argument list. Make the list dict_of_lists['a'] and append the value 'something for a' to it in one assignment. Print dict_of_lists['a'].**"
   ]
  },
  {
   "cell_type": "code",
   "execution_count": 32,
   "id": "bbb5e617",
   "metadata": {},
   "outputs": [
    {
     "name": "stdout",
     "output_type": "stream",
     "text": [
      "['something for a']\n"
     ]
    }
   ],
   "source": [
    "from collections import defaultdict\n",
    "dict_of_lists = defaultdict(list)\n",
    "dict_of_lists['a'].append('something for a')\n",
    "print(dict_of_lists['a'])"
   ]
  },
  {
   "cell_type": "code",
   "execution_count": null,
   "id": "9d69cd2f",
   "metadata": {},
   "outputs": [],
   "source": []
  },
  {
   "cell_type": "code",
   "execution_count": null,
   "id": "a5412c37",
   "metadata": {},
   "outputs": [],
   "source": []
  },
  {
   "cell_type": "code",
   "execution_count": null,
   "id": "54056031",
   "metadata": {},
   "outputs": [],
   "source": []
  }
 ],
 "metadata": {
  "kernelspec": {
   "display_name": "Python 3 (ipykernel)",
   "language": "python",
   "name": "python3"
  },
  "language_info": {
   "codemirror_mode": {
    "name": "ipython",
    "version": 3
   },
   "file_extension": ".py",
   "mimetype": "text/x-python",
   "name": "python",
   "nbconvert_exporter": "python",
   "pygments_lexer": "ipython3",
   "version": "3.9.12"
  }
 },
 "nbformat": 4,
 "nbformat_minor": 5
}
