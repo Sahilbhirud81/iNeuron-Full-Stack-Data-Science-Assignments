{
 "cells": [
  {
   "cell_type": "markdown",
   "id": "86e25c74",
   "metadata": {},
   "source": [
    "# Assignment 12 Solutions"
   ]
  },
  {
   "cell_type": "markdown",
   "id": "0ea819b2",
   "metadata": {},
   "source": [
    "**1. In what modes should the PdfFileReader() and PdfFileWriter() File objects will be opened?<br>\n",
    "Ans:** For PdfFileReader() file objects should be opened in rb -> read binary mode, Whereas for PdfFileWriter() file objects should be opened in wb -> write binary mode.\n",
    "\n",
    "**2. From a PdfFileReader object, how do you get a Page object for page 5?<br>\n",
    "Ans:** PdfFileReader class provides a method called getPage(page_no) to get a page object."
   ]
  },
  {
   "cell_type": "markdown",
   "id": "997d1470",
   "metadata": {},
   "source": [
    "**3. What PdfFileReader variable stores the number of pages in the PDF document?<br>\n",
    "Ans:** getNumPages() method of PdfFileReader class stores the no pages in a PDF document"
   ]
  },
  {
   "cell_type": "markdown",
   "id": "30a824a2",
   "metadata": {},
   "source": [
    "**4. If a PdfFileReader object’s PDF is encrypted with the password swordfish, what must you do before you can obtain Page objects from it?<br>\n",
    "Ans:** obj.decrypt(\"swordfish\")"
   ]
  },
  {
   "cell_type": "markdown",
   "id": "26f0e97a",
   "metadata": {},
   "source": [
    "**5. What methods do you use to rotate a page?<br>\n",
    "Ans:** PyPDF2 Package provides 2 methods to rotate a page:\n",
    "\n",
    "- rotateClockWise() -> For Clockwise rotation<br>\n",
    "- rotateCounterClockWise() -> For Counter Clockwise rotation<br>\n",
    "\n",
    "The PyPDF2 package only allows you to rotate a page in increments of 90 degrees. You will receive an AssertionError otherwise.\n",
    "\n",
    "**6. What is the difference between a Run object and a Paragraph object?<br>\n",
    "Ans:** The structure of a document is represented by three different data types in python-Docx. At the highest level, a Document object represents the entire document. The Document object contains a list of Paragraph objects for the paragraphs in the document. (A new paragraph begins whenever the user presses ENTER or RETURN while typing in a Word document.) Each of these Paragraph objects contains a list of one or more Run objects.\n",
    "\n",
    "The text in a Word document is more than just a string. It has font, size, color, and other styling information associated with it. A style in Word is a collection of these attributes. A Run object is a contiguous run of text with the same style. A new Run object is needed whenever the text style changes.\n",
    "\n",
    "**7. How do you obtain a list of Paragraph objects for a Document object that’s stored in a variable named doc?<br>**"
   ]
  },
  {
   "cell_type": "code",
   "execution_count": null,
   "id": "e975216b",
   "metadata": {},
   "outputs": [],
   "source": [
    "# Example Program\n",
    "from docx import Document\n",
    "doc = Document(\"sample_file.docx\") # Path of the Docx file\n",
    "print(doc.paragraphs) # Prints the list of Paragraph objects for a Document\n",
    "for paragraph in doc.paragraphs:\n",
    "    print(paragraph.text) # Prints the text in the paragraph"
   ]
  },
  {
   "cell_type": "markdown",
   "id": "da952cc8",
   "metadata": {},
   "source": [
    "**8. What type of object has bold, underline, italic, strike, and outline variables?<br>\n",
    "Ans:** Run object has bold, underline, italic, strike, and outline variables. The text in a Word document is more than just a string. It has font, size, color, and other styling information associated with it.\n",
    "\n",
    "A style in Word is a collection of these attributes. A Run object is a contiguous run of text with the same style. A new Run object is needed whenever the text style changes.\n",
    "\n",
    "**9. What is the difference between False, True, and None for the bold variable?<br>**"
   ]
  },
  {
   "cell_type": "code",
   "execution_count": null,
   "id": "1d248bdc",
   "metadata": {},
   "outputs": [],
   "source": [
    "bold = True  # Style Set to Bold\n",
    "bold = False # Style Not Set to Bold\n",
    "bold = None # Style is Not Applicable"
   ]
  },
  {
   "cell_type": "markdown",
   "id": "a7f9b685",
   "metadata": {},
   "source": [
    "**10. How do you create a Document object for a new Word document?<br>**"
   ]
  },
  {
   "cell_type": "code",
   "execution_count": null,
   "id": "7c7a9a13",
   "metadata": {},
   "outputs": [],
   "source": [
    "# Example Program\n",
    "from docx import Document\n",
    "document = Document()\n",
    "document.add_paragraph(\"iNeuron Full Stack DataScience Course\")\n",
    "document.save('mydocument.docx')"
   ]
  },
  {
   "cell_type": "markdown",
   "id": "a4b584d0",
   "metadata": {},
   "source": [
    "**11. How do you add a paragraph with the text 'Hello, there!' to a Document object stored in a variable named doc?<br>**"
   ]
  },
  {
   "cell_type": "code",
   "execution_count": null,
   "id": "547614f1",
   "metadata": {},
   "outputs": [],
   "source": [
    "# Example Program\n",
    "from docx import Document\n",
    "doc = Document()\n",
    "doc.add_paragraph('Hello, there!')\n",
    "doc.save('hello.docx')"
   ]
  },
  {
   "cell_type": "markdown",
   "id": "ad570c0f",
   "metadata": {},
   "source": [
    "**12. What integers represent the levels of headings available in Word documents?<br>\n",
    "Ans:** The levels for a heading in a word document can be specified by using the level attribute inside the add_heading method. There are a total of 5 levels statring for 0 t0 4. where level 0 makes a headline with the horizontal line below the text, whereas the heading level 1 is the main heading. Similarly, the other headings are sub-heading with their's font-sizes in decreasing order."
   ]
  },
  {
   "cell_type": "code",
   "execution_count": null,
   "id": "d6124f27",
   "metadata": {},
   "outputs": [],
   "source": []
  }
 ],
 "metadata": {
  "kernelspec": {
   "display_name": "Python 3 (ipykernel)",
   "language": "python",
   "name": "python3"
  },
  "language_info": {
   "codemirror_mode": {
    "name": "ipython",
    "version": 3
   },
   "file_extension": ".py",
   "mimetype": "text/x-python",
   "name": "python",
   "nbconvert_exporter": "python",
   "pygments_lexer": "ipython3",
   "version": "3.9.12"
  }
 },
 "nbformat": 4,
 "nbformat_minor": 5
}
