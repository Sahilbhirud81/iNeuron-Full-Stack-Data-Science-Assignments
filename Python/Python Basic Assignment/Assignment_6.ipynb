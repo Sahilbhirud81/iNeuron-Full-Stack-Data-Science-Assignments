{
 "cells": [
  {
   "cell_type": "markdown",
   "id": "d63bd474",
   "metadata": {},
   "source": [
    "# Assignment  6 Solutions"
   ]
  },
  {
   "cell_type": "markdown",
   "id": "c6ae203b",
   "metadata": {},
   "source": [
    "**1.What are Escape characters ? and how do you use them ?<br>\n",
    "Ans:** Escape characters represent characters in string values that would otherwise be difficult or impossible to type into code. we can use the backslash character to escape a single character or symbol<br>\n",
    "example: \\t, \\n\n",
    "\n",
    "**2.What do the escape characters n and t stand for ?<br>\n",
    "Ans:** \\n is a newline, \\t is a tab\n",
    "\n",
    "**3.What is the way to include backslash character in a string?<br>\n",
    "Ans:** The \\\\ escape character will represent the backslash character in a string\n",
    "\n",
    "**4.The string \"Howl's Moving Castle\" is a correct value. Why isn't the single quote character in the word Howl's not escaped a problem ?<br>\n",
    "Ans:** <br>The string \"Howl's Moving Castle\" escaped the problem because it is wrapped inside double quotes. if its wrapped inside single quotes then we have to use escape character \\' to show single quote in the final output\n",
    "'Howl\\'s Moving Castle' -> 'Howl's Moving Castle'\n",
    "\n",
    "**5.How do you write a string of newlines if you don't want to use the n character?<br>\n",
    "Ans:** Multiline string allow you to use newlines in string without the \\n escape character"
   ]
  },
  {
   "cell_type": "code",
   "execution_count": 1,
   "id": "374bcb35",
   "metadata": {},
   "outputs": [
    {
     "name": "stdout",
     "output_type": "stream",
     "text": [
      "iNeuron full stack\n",
      "Data Science Course\n"
     ]
    }
   ],
   "source": [
    "# Example:\n",
    "a = '''iNeuron full stack\n",
    "Data Science Course'''\n",
    "print(a)"
   ]
  },
  {
   "cell_type": "markdown",
   "id": "e1063399",
   "metadata": {},
   "source": [
    "**6.What are the values of the given expressions ?<br>**\n",
    "'Hello, world!'[1]<br>\n",
    "'Hello, world!'[0:5<br>\n",
    "'Hello, world!'[:5]<br>\n",
    "'Hello, world!'[3:]<br><br>\n",
    "**Ans:** The values for the given expressions are:<br>\n",
    "'Hello, world!'[1] -> 'e'<br>\n",
    "'Hello, world!'[0:5] -> 'Hello'<br>\n",
    "'Hello, world!'[:5] -> 'Hello'<br>\n",
    "'Hello, world!'[3:] -> 'lo, world!'<br>"
   ]
  },
  {
   "cell_type": "markdown",
   "id": "c222a246",
   "metadata": {},
   "source": [
    "**7.What are the values of the following expressions ?<br>**\n",
    "'Hello'.upper()<br>\n",
    "'Hello'.upper().isupper()<br>\n",
    "'Hello'.upper().lower()<br>\n",
    "\n",
    "**Ans:** The values for the given expressions are:<br>\n",
    "'Hello'.upper() -> 'HELLO'<br>\n",
    "'Hello'.upper().isupper() -> True<br>\n",
    "'Hello'.upper().lower() -> 'hello'<br>\n",
    "\n",
    "**8.What are the values of the following expressions ?**<br>\n",
    "'Remember, remember, the fifith of July.'.split()<br>\n",
    "-'.join('There can only one'.split())<br>\n",
    "\n",
    "**Ans:** The values for the given expressions are:<br>\n",
    "'Remember, remember, the fifith of July.'.split() -> ['Remember,', 'remember,', 'the', 'fifith', 'of', 'July.']<br>\n",
    "'-'.join('There can only one'.split()) -> 'There-can-only-one'\n",
    "\n",
    "**9.What are the methods for right-justifying, left-justifying and centering a string ?<br>\n",
    "Ans:** The rjust(),ljust(),center() string methods, respectively\n",
    "\n",
    "**10.What is the best way to remove whitespace characters from the start or end ?<br>\n",
    "Ans:** The lstrip() and rstrip() methods remove whitesapce characters from the left and right ends of a string respectively"
   ]
  },
  {
   "cell_type": "code",
   "execution_count": null,
   "id": "2f8c458e",
   "metadata": {},
   "outputs": [],
   "source": []
  }
 ],
 "metadata": {
  "kernelspec": {
   "display_name": "Python 3 (ipykernel)",
   "language": "python",
   "name": "python3"
  },
  "language_info": {
   "codemirror_mode": {
    "name": "ipython",
    "version": 3
   },
   "file_extension": ".py",
   "mimetype": "text/x-python",
   "name": "python",
   "nbconvert_exporter": "python",
   "pygments_lexer": "ipython3",
   "version": "3.9.12"
  }
 },
 "nbformat": 4,
 "nbformat_minor": 5
}
