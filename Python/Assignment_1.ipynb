{
 "cells": [
  {
   "cell_type": "markdown",
   "id": "ffdc6ead",
   "metadata": {},
   "source": [
    "# Assignment 1"
   ]
  },
  {
   "cell_type": "markdown",
   "id": "9913a729",
   "metadata": {},
   "source": [
    "**1. In the below elements which of them are values or an expression? eg:- values can be integer or string and expressions will be mathematical operators.**\n",
    "\n",
    " Ans:-\n",
    "    \n",
    "    Operators: *, -, /, +\n",
    "    \n",
    "    Expressions: 'hello', 87.8, 6\n",
    "   "
   ]
  },
  {
   "cell_type": "markdown",
   "id": "eea41668",
   "metadata": {},
   "source": [
    "**2. What is the difference between string and variable?**\n",
    "\n",
    "   Ans: A Variable is used to store of information, and a String is a type of information you would store in a Variable. A String is a group of characters or a single character usually enclosed in Double quotes \" \" or single quotes ' '"
   ]
  },
  {
   "cell_type": "markdown",
   "id": "521cd6a7",
   "metadata": {},
   "source": [
    "**3. Describe three different Data Types ?**\n",
    "\n",
    "Ans: \n",
    "\n",
    "- Int : Int datatype is used to repersent the integer values (eg. a = 123, b = -421)\n",
    "\n",
    "- float : Float datatype is used to repersent the real numbers(floating point) (eg. c = 12.34, d = -3.69)\n",
    "\n",
    "- string: String is used to repersent the sequence of characters. Also the characters can be numbers, special character, and alphabates. "
   ]
  },
  {
   "cell_type": "markdown",
   "id": "3c863241",
   "metadata": {},
   "source": [
    "**4. What is an expression made up of? What do all expressions do?**\n",
    "\n",
    "Ans:-\n",
    "- Expression : Expression is the combinaton.of mathematical operators, variables(or Constants). It consists of one or more operand and zero or more operators to produce a value.\n",
    "\n",
    "- Expression is used to produce some result or value.\n",
    "\n",
    "**5. This assignment statements, like spam = 10. What is the difference between an expression and a statement?**\n",
    "<br>Ans:- \n",
    "- Assignment statement : It is the statement where some value or expression is assigned to a variable or constant.\n",
    "- Difference : The difference is that expression itself is assigned to a variable or constant.\n",
    "\n",
    "    - For Eg: spam = 10 * a\n",
    "    - In the example \" spam = 10 a \" is a assignment statement whereas the \" 10 a \" is an expression.\n",
    "\n",
    "**6. After running the following code, what does the variable bacon contain?**\n",
    "\n",
    "    bacon = 22\n",
    "    bacon + 1\n",
    "   - Ans:-bacon will contain 22."
   ]
  },
  {
   "cell_type": "code",
   "execution_count": 4,
   "id": "0cfc1ee1",
   "metadata": {},
   "outputs": [],
   "source": [
    "bacon = 22"
   ]
  },
  {
   "cell_type": "code",
   "execution_count": 5,
   "id": "9488f9e3",
   "metadata": {},
   "outputs": [
    {
     "data": {
      "text/plain": [
       "23"
      ]
     },
     "execution_count": 5,
     "metadata": {},
     "output_type": "execute_result"
    }
   ],
   "source": [
    "bacon + 1"
   ]
  },
  {
   "cell_type": "code",
   "execution_count": 6,
   "id": "0d9cdce6",
   "metadata": {},
   "outputs": [
    {
     "name": "stdout",
     "output_type": "stream",
     "text": [
      "22\n"
     ]
    }
   ],
   "source": [
    "print(bacon)"
   ]
  },
  {
   "cell_type": "markdown",
   "id": "881f6e78",
   "metadata": {},
   "source": [
    "**7. What should the values of the following two terms be?**\n",
    "'spam' + 'spamspam'\n",
    "'spam' * 3\n",
    "\n",
    "Ans:\n",
    "- 'spam' + 'spamspam' = 'spamspamspam'\n",
    "- 'spam' * 3 = 'spamspamspam'"
   ]
  },
  {
   "cell_type": "code",
   "execution_count": 7,
   "id": "6d19ff58",
   "metadata": {},
   "outputs": [
    {
     "data": {
      "text/plain": [
       "'spamspamspam'"
      ]
     },
     "execution_count": 7,
     "metadata": {},
     "output_type": "execute_result"
    }
   ],
   "source": [
    "'spam' + 'spamspam'"
   ]
  },
  {
   "cell_type": "code",
   "execution_count": 8,
   "id": "e730dd75",
   "metadata": {},
   "outputs": [
    {
     "data": {
      "text/plain": [
       "'spamspamspam'"
      ]
     },
     "execution_count": 8,
     "metadata": {},
     "output_type": "execute_result"
    }
   ],
   "source": [
    "'spam' * 3"
   ]
  },
  {
   "cell_type": "markdown",
   "id": "b7891c57",
   "metadata": {},
   "source": [
    "**8. Why is eggs a valid variable name while 100 is invalid?**\n",
    "Ans:- Because the variable declartion in python is that the variable name must start with a alphabate or underscore '_'\n",
    "- eg : a = 10, str1 = \"Data\", _val = -12.34"
   ]
  },
  {
   "cell_type": "markdown",
   "id": "aca6c5dc",
   "metadata": {},
   "source": [
    "**9. What three functions can be used to get the integer, floating-point number, or string version of a value?**\n",
    "\n",
    "Ans: \n",
    "- Typecasting can be used to get the value\n",
    "- for int : int()\n",
    "- for float : float()\n",
    "- for string : str()"
   ]
  },
  {
   "cell_type": "code",
   "execution_count": 10,
   "id": "dc0472b2",
   "metadata": {},
   "outputs": [
    {
     "data": {
      "text/plain": [
       "12"
      ]
     },
     "execution_count": 10,
     "metadata": {},
     "output_type": "execute_result"
    }
   ],
   "source": [
    "int(12.43)"
   ]
  },
  {
   "cell_type": "code",
   "execution_count": 11,
   "id": "892d1190",
   "metadata": {},
   "outputs": [
    {
     "data": {
      "text/plain": [
       "1234"
      ]
     },
     "execution_count": 11,
     "metadata": {},
     "output_type": "execute_result"
    }
   ],
   "source": [
    "int(\"1234\")"
   ]
  },
  {
   "cell_type": "code",
   "execution_count": 12,
   "id": "944e3135",
   "metadata": {},
   "outputs": [
    {
     "data": {
      "text/plain": [
       "123.0"
      ]
     },
     "execution_count": 12,
     "metadata": {},
     "output_type": "execute_result"
    }
   ],
   "source": [
    "float(123)"
   ]
  },
  {
   "cell_type": "code",
   "execution_count": 13,
   "id": "e068b3d6",
   "metadata": {},
   "outputs": [
    {
     "data": {
      "text/plain": [
       "'123'"
      ]
     },
     "execution_count": 13,
     "metadata": {},
     "output_type": "execute_result"
    }
   ],
   "source": [
    "str(123)"
   ]
  },
  {
   "cell_type": "code",
   "execution_count": 14,
   "id": "7c22d42f",
   "metadata": {},
   "outputs": [
    {
     "data": {
      "text/plain": [
       "'(56+7j)'"
      ]
     },
     "execution_count": 14,
     "metadata": {},
     "output_type": "execute_result"
    }
   ],
   "source": [
    "str(56 + 7j)"
   ]
  },
  {
   "cell_type": "markdown",
   "id": "68cd6372",
   "metadata": {},
   "source": [
    "**10. Why does this expression cause an error? How can you fix it?**\n",
    "\n",
    "'I have eaten ' + 99 + ' burritos.'\n",
    "\n",
    "- Ans: The concat operation between string and int is not possbile. So it will throw an error\n",
    "- Fix: To fix this error we can typecast the int value using str(99)"
   ]
  },
  {
   "cell_type": "code",
   "execution_count": 15,
   "id": "efcc8c1d",
   "metadata": {},
   "outputs": [
    {
     "ename": "TypeError",
     "evalue": "can only concatenate str (not \"int\") to str",
     "output_type": "error",
     "traceback": [
      "\u001b[1;31m---------------------------------------------------------------------------\u001b[0m",
      "\u001b[1;31mTypeError\u001b[0m                                 Traceback (most recent call last)",
      "Input \u001b[1;32mIn [15]\u001b[0m, in \u001b[0;36m<cell line: 3>\u001b[1;34m()\u001b[0m\n\u001b[0;32m      1\u001b[0m \u001b[38;5;66;03m## Error\u001b[39;00m\n\u001b[1;32m----> 3\u001b[0m \u001b[38;5;124;43m'\u001b[39;49m\u001b[38;5;124;43mI have eaten \u001b[39;49m\u001b[38;5;124;43m'\u001b[39;49m\u001b[43m \u001b[49m\u001b[38;5;241;43m+\u001b[39;49m\u001b[43m \u001b[49m\u001b[38;5;241;43m99\u001b[39;49m \u001b[38;5;241m+\u001b[39m \u001b[38;5;124m'\u001b[39m\u001b[38;5;124m burritos.\u001b[39m\u001b[38;5;124m'\u001b[39m\n",
      "\u001b[1;31mTypeError\u001b[0m: can only concatenate str (not \"int\") to str"
     ]
    }
   ],
   "source": [
    "## Error\n",
    "\n",
    "'I have eaten ' + 99 + ' burritos.'\n"
   ]
  },
  {
   "cell_type": "code",
   "execution_count": 16,
   "id": "89325513",
   "metadata": {},
   "outputs": [
    {
     "data": {
      "text/plain": [
       "'I have eaten 99 burritos.'"
      ]
     },
     "execution_count": 16,
     "metadata": {},
     "output_type": "execute_result"
    }
   ],
   "source": [
    "## Fix\n",
    "\n",
    "'I have eaten ' + str(99) + ' burritos.'\n"
   ]
  },
  {
   "cell_type": "code",
   "execution_count": null,
   "id": "26b62aa9",
   "metadata": {},
   "outputs": [],
   "source": []
  }
 ],
 "metadata": {
  "kernelspec": {
   "display_name": "Python 3 (ipykernel)",
   "language": "python",
   "name": "python3"
  },
  "language_info": {
   "codemirror_mode": {
    "name": "ipython",
    "version": 3
   },
   "file_extension": ".py",
   "mimetype": "text/x-python",
   "name": "python",
   "nbconvert_exporter": "python",
   "pygments_lexer": "ipython3",
   "version": "3.9.12"
  }
 },
 "nbformat": 4,
 "nbformat_minor": 5
}
