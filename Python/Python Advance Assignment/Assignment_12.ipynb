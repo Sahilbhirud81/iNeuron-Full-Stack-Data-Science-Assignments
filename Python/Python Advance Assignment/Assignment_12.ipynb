{
 "cells": [
  {
   "cell_type": "markdown",
   "id": "46fc6ae6",
   "metadata": {},
   "source": [
    "# Assignment 12 Solutions\n",
    "**Q1. Does assigning a value to a string's indexed character violate Python's string immutability ?<br>\n",
    "Ans:** String’s indexed character cannot to be assigned a New value , as Strings are immutable.\n",
    "Example:<br>\n",
    "name = \"Reinforcement\"<br><br\n",
    "print(id(name)) #73472<br>\n",
    "name[0] = \"V\" # Raises TypeError<br>\n",
    "\n",
    "**Q2. Does using the += operator to concatenate strings violate Python's string immutability? Why or why not ?<br>\n",
    "Ans:** += operator is used to concatenate strings, it does not violate Python’s string immutability Property. Because doing so new creates a new association with data and variable. E.g. str_1=\"a\" and str_1+=\"b. effect of this statements to create string ab and reassign it to variable str_1, any string data is not actually modified."
   ]
  },
  {
   "cell_type": "code",
   "execution_count": 3,
   "id": "493acbe9",
   "metadata": {},
   "outputs": [
    {
     "name": "stdout",
     "output_type": "stream",
     "text": [
      "1954049676336\n",
      "1954129872176\n"
     ]
    }
   ],
   "source": [
    "str_1 = 'a'\n",
    "print(id(str_1))\n",
    "str_1 += 'b'\n",
    "print(id(str_1)) # Does not Modify existing string, Creates a New String Object"
   ]
  },
  {
   "cell_type": "markdown",
   "id": "c04edde2",
   "metadata": {},
   "source": [
    "**Q3. In Python, how many different ways are there to index a character?<br>\n",
    "Ans:** A Character in string can be indexed using string name followed by index number of character in square bracket. Positive Indexing i.e. first index is 0 an so on, or Negative Indexing i.e. last letter is -1 and so on can be used to index a character"
   ]
  },
  {
   "cell_type": "code",
   "execution_count": 4,
   "id": "f617e137",
   "metadata": {},
   "outputs": [
    {
     "name": "stdout",
     "output_type": "stream",
     "text": [
      "u l e\n",
      "e i c\n"
     ]
    }
   ],
   "source": [
    "in_string = \"iNeuron Full Stack Data Science\"\n",
    "print(in_string[9],in_string[10],in_string[2]) # Positive Indexing\n",
    "print(in_string[-1],in_string[-5],in_string[-2]) # Negative Indexing"
   ]
  },
  {
   "cell_type": "markdown",
   "id": "428b315f",
   "metadata": {},
   "source": [
    "**Q4. What is the relationship between indexing and slicing?<br>\n",
    "Ans:** We can access elements of sequence datatypes by using slicing and indexing. Indexing is used to obtaining individual element while slicing for sequence of elements."
   ]
  },
  {
   "cell_type": "code",
   "execution_count": 5,
   "id": "a1a9f34b",
   "metadata": {},
   "outputs": [
    {
     "name": "stdout",
     "output_type": "stream",
     "text": [
      "N u o\n",
      "Neuron Full St\n"
     ]
    }
   ],
   "source": [
    "in_string = \"iNeuron Full Stack Data Science\"\n",
    "print(in_string[1],in_string[3],in_string[5]) # Indexing\n",
    "print(in_string[1:15]) # Slicing"
   ]
  },
  {
   "cell_type": "markdown",
   "id": "aca976f0",
   "metadata": {},
   "source": [
    "**Q5. What is an indexed character's exact data type? What is the data form of a slicing-generated substring?<br>\n",
    "Ans:** Indexed characters and sliced substrings have datatype String."
   ]
  },
  {
   "cell_type": "code",
   "execution_count": 6,
   "id": "d304d86f",
   "metadata": {},
   "outputs": [
    {
     "name": "stdout",
     "output_type": "stream",
     "text": [
      "<class 'str'>\n",
      "<class 'str'>\n"
     ]
    }
   ],
   "source": [
    "in_string = \"iNeuron Full Stack Data Science\"\n",
    "print(type(in_string[3])) # Indexing -> str\n",
    "print(type(in_string[1:10])) # Indexing -> str"
   ]
  },
  {
   "cell_type": "markdown",
   "id": "b23854f2",
   "metadata": {},
   "source": [
    "**Q6. What is the relationship between string and character \"types\" in Python?<br>\n",
    "Ans:** Object that contains sequence of character datatypes are called String.\n",
    "\n",
    "**Q7. Identify at least two operators & one method that allow you to combine one or more smaller strings to create a larger string ?<br>\n",
    "Ans:** +, += and * allow to combine one or more smaller strings to create a larger string. <string>.join(<sep>) method joins element of iterable type like list and tuple to get a combined string."
   ]
  },
  {
   "cell_type": "code",
   "execution_count": 7,
   "id": "381b58f3",
   "metadata": {},
   "outputs": [
    {
     "name": "stdout",
     "output_type": "stream",
     "text": [
      "iNeuron Full Stack Data Science FSDS\n",
      "FSDS FSDS FSDS \n",
      "I N E U R O N\n",
      "i n e u r o n\n"
     ]
    }
   ],
   "source": [
    "in_string = 'iNeuron '\n",
    "in_string += 'Full Stack Data Science'\n",
    "print(in_string + ' FSDS')\n",
    "print('FSDS '*3)\n",
    "print(\" \".join(['I','N','E','U','R','O','N'])) # List Iterable\n",
    "print(\" \".join(('I','N','E','U','R','O','N')).lower()) # Tuple Iterable"
   ]
  },
  {
   "cell_type": "markdown",
   "id": "d647ea2b",
   "metadata": {},
   "source": [
    "**Q8. What is the benefit of first checking the target string with in or not in before using the index method to find a substring ?<br>\n",
    "Ans:** Checking the target string with in or not Operators before using the index method to find a substring just helps confirming availability of substring and thus avoid raising of ValueError.\n",
    "Example:<br>\n",
    "in_string = \"ineuron\"<br>\n",
    "in_string.index('x') # Raises ValueError<br>\n",
    "in_string.index('u') # 3<br>\n",
    "\n",
    "**Q9. Which operators and built-in string methods produce simple Boolean (true/false) results?<br>\n",
    "Ans:** The String Operators and built-in methods to Produce Simple Boolean (True/False) Results are:<br>\n",
    "\n",
    "\n",
    "- in\n",
    "- not\n",
    "- <string>.isalpha()\n",
    "- <string>.isalnum()\n",
    "- <string>.isdecimal()\n",
    "- <string>.isdigit()\n",
    "- <string>.islower()\n",
    "- <string>.isnumeric()\n",
    "- <string>.isprintable()\n",
    "- <string>.isspace()\n",
    "- <string>.istitle()"
   ]
  }
 ],
 "metadata": {
  "kernelspec": {
   "display_name": "Python 3 (ipykernel)",
   "language": "python",
   "name": "python3"
  },
  "language_info": {
   "codemirror_mode": {
    "name": "ipython",
    "version": 3
   },
   "file_extension": ".py",
   "mimetype": "text/x-python",
   "name": "python",
   "nbconvert_exporter": "python",
   "pygments_lexer": "ipython3",
   "version": "3.9.12"
  }
 },
 "nbformat": 4,
 "nbformat_minor": 5
}
