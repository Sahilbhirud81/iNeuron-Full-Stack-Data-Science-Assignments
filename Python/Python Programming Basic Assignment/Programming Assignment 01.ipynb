{
 "cells": [
  {
   "cell_type": "markdown",
   "id": "048bb1fa",
   "metadata": {},
   "source": [
    "# Assignment 1 Solutions"
   ]
  },
  {
   "cell_type": "markdown",
   "id": "36765cf0",
   "metadata": {},
   "source": [
    " **1.Write a Python program to print 'Hello Python' ?**"
   ]
  },
  {
   "cell_type": "code",
   "execution_count": 1,
   "id": "998de563",
   "metadata": {},
   "outputs": [
    {
     "name": "stdout",
     "output_type": "stream",
     "text": [
      "Hello Python\n"
     ]
    }
   ],
   "source": [
    "print(\"Hello Python\")"
   ]
  },
  {
   "cell_type": "markdown",
   "id": "078573ab",
   "metadata": {},
   "source": [
    "**2.Write a Python program to do arithmetic operations addition and division ?**"
   ]
  },
  {
   "cell_type": "code",
   "execution_count": 1,
   "id": "861a5c09",
   "metadata": {},
   "outputs": [
    {
     "name": "stdout",
     "output_type": "stream",
     "text": [
      "12\n",
      "5.0\n"
     ]
    }
   ],
   "source": [
    "a = 10\n",
    "b = 2\n",
    "\n",
    "## Addition\n",
    "add = a + b\n",
    "## Division\n",
    "div = a/b\n",
    "\n",
    "print(add)\n",
    "print(div)"
   ]
  },
  {
   "cell_type": "markdown",
   "id": "72131707",
   "metadata": {},
   "source": [
    "**3.Write a Python program to find the area of a triangle ?**"
   ]
  },
  {
   "cell_type": "code",
   "execution_count": 3,
   "id": "cd0e3b59",
   "metadata": {},
   "outputs": [
    {
     "name": "stdout",
     "output_type": "stream",
     "text": [
      "Enter height of triangle: 10\n",
      "Enter base of triangle: 5\n",
      "\n",
      "Area of triangle -> 25.0\n"
     ]
    }
   ],
   "source": [
    "height = int(input('Enter height of triangle: '))\n",
    "base = int(input('Enter base of triangle: '))\n",
    "\n",
    "def areaOfTriangle(height, base):\n",
    "    print('\\nArea of triangle ->', 0.5*height*base)\n",
    "\n",
    "areaOfTriangle(height,base)"
   ]
  },
  {
   "cell_type": "markdown",
   "id": "2962d22c",
   "metadata": {},
   "source": [
    "**4.Write a Python program to swap two variables ?**"
   ]
  },
  {
   "cell_type": "code",
   "execution_count": 11,
   "id": "73d5de7f",
   "metadata": {},
   "outputs": [
    {
     "name": "stdout",
     "output_type": "stream",
     "text": [
      "The value of a and b before swapping: 5 10\n",
      "The value of a and b after swapping: 10 5\n"
     ]
    }
   ],
   "source": [
    "a=5\n",
    "b=10\n",
    "print(\"The value of a and b before swapping:\",a,b)\n",
    "c=a\n",
    "a=b\n",
    "b=c\n",
    "print(\"The value of a and b after swapping:\",a,b)"
   ]
  },
  {
   "cell_type": "markdown",
   "id": "094978e1",
   "metadata": {},
   "source": [
    "**5.Write a Python program to generate a random number ?**"
   ]
  },
  {
   "cell_type": "code",
   "execution_count": 17,
   "id": "e5fa6774",
   "metadata": {},
   "outputs": [
    {
     "name": "stdout",
     "output_type": "stream",
     "text": [
      "76\n",
      "0.2508711485137839\n"
     ]
    }
   ],
   "source": [
    "import random\n",
    "\n",
    "print(random.randint(0,99))\n",
    "print(random.random())"
   ]
  },
  {
   "cell_type": "code",
   "execution_count": null,
   "id": "7181e3e5",
   "metadata": {},
   "outputs": [],
   "source": []
  },
  {
   "cell_type": "code",
   "execution_count": null,
   "id": "698d09a8",
   "metadata": {},
   "outputs": [],
   "source": []
  }
 ],
 "metadata": {
  "kernelspec": {
   "display_name": "Python 3 (ipykernel)",
   "language": "python",
   "name": "python3"
  },
  "language_info": {
   "codemirror_mode": {
    "name": "ipython",
    "version": 3
   },
   "file_extension": ".py",
   "mimetype": "text/x-python",
   "name": "python",
   "nbconvert_exporter": "python",
   "pygments_lexer": "ipython3",
   "version": "3.9.12"
  }
 },
 "nbformat": 4,
 "nbformat_minor": 5
}
