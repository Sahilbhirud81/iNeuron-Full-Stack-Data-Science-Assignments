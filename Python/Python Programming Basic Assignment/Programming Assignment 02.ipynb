{
 "cells": [
  {
   "cell_type": "markdown",
   "id": "af854d97",
   "metadata": {},
   "source": [
    "# Programming Assignment 2 Solution"
   ]
  },
  {
   "cell_type": "markdown",
   "id": "d32019d7",
   "metadata": {},
   "source": [
    "**1. Write a Python program to convert kilometers to miles?**<br>\n",
    "Sol."
   ]
  },
  {
   "cell_type": "code",
   "execution_count": 2,
   "id": "6538659f",
   "metadata": {},
   "outputs": [
    {
     "name": "stdout",
     "output_type": "stream",
     "text": [
      "for 10 is equal to  6.25\n"
     ]
    }
   ],
   "source": [
    "km = 10\n",
    "miles = km/1.6\n",
    "print(\"for\",km,\"is equal to \",miles)"
   ]
  },
  {
   "cell_type": "markdown",
   "id": "901981a4",
   "metadata": {},
   "source": [
    "**2.Write a Python program to convert Celsius to Fahrenheit?**<br>\n",
    "Sol."
   ]
  },
  {
   "cell_type": "code",
   "execution_count": 3,
   "id": "136f4abf",
   "metadata": {},
   "outputs": [
    {
     "name": "stdout",
     "output_type": "stream",
     "text": [
      "For Celsius = 35 equivalent Fahrenheit = 95.0\n"
     ]
    }
   ],
   "source": [
    "c = 35\n",
    "\n",
    "f = (9*c/5)+32\n",
    "\n",
    "print(\"For Celsius = {} equivalent Fahrenheit = {}\".format(c, f))"
   ]
  },
  {
   "cell_type": "markdown",
   "id": "ced439d4",
   "metadata": {},
   "source": [
    "**3. Write a Python program to display calendar?**<br>\n",
    "Sol."
   ]
  },
  {
   "cell_type": "code",
   "execution_count": 17,
   "id": "0dbee194",
   "metadata": {},
   "outputs": [
    {
     "name": "stdout",
     "output_type": "stream",
     "text": [
      "                                  2020\n",
      "\n",
      "      January                   February                   March\n",
      "Mo Tu We Th Fr Sa Su      Mo Tu We Th Fr Sa Su      Mo Tu We Th Fr Sa Su\n",
      "       1  2  3  4  5                      1  2                         1\n",
      " 6  7  8  9 10 11 12       3  4  5  6  7  8  9       2  3  4  5  6  7  8\n",
      "13 14 15 16 17 18 19      10 11 12 13 14 15 16       9 10 11 12 13 14 15\n",
      "20 21 22 23 24 25 26      17 18 19 20 21 22 23      16 17 18 19 20 21 22\n",
      "27 28 29 30 31            24 25 26 27 28 29         23 24 25 26 27 28 29\n",
      "                                                    30 31\n",
      "\n",
      "       April                      May                       June\n",
      "Mo Tu We Th Fr Sa Su      Mo Tu We Th Fr Sa Su      Mo Tu We Th Fr Sa Su\n",
      "       1  2  3  4  5                   1  2  3       1  2  3  4  5  6  7\n",
      " 6  7  8  9 10 11 12       4  5  6  7  8  9 10       8  9 10 11 12 13 14\n",
      "13 14 15 16 17 18 19      11 12 13 14 15 16 17      15 16 17 18 19 20 21\n",
      "20 21 22 23 24 25 26      18 19 20 21 22 23 24      22 23 24 25 26 27 28\n",
      "27 28 29 30               25 26 27 28 29 30 31      29 30\n",
      "\n",
      "        July                     August                  September\n",
      "Mo Tu We Th Fr Sa Su      Mo Tu We Th Fr Sa Su      Mo Tu We Th Fr Sa Su\n",
      "       1  2  3  4  5                      1  2          1  2  3  4  5  6\n",
      " 6  7  8  9 10 11 12       3  4  5  6  7  8  9       7  8  9 10 11 12 13\n",
      "13 14 15 16 17 18 19      10 11 12 13 14 15 16      14 15 16 17 18 19 20\n",
      "20 21 22 23 24 25 26      17 18 19 20 21 22 23      21 22 23 24 25 26 27\n",
      "27 28 29 30 31            24 25 26 27 28 29 30      28 29 30\n",
      "                          31\n",
      "\n",
      "      October                   November                  December\n",
      "Mo Tu We Th Fr Sa Su      Mo Tu We Th Fr Sa Su      Mo Tu We Th Fr Sa Su\n",
      "          1  2  3  4                         1          1  2  3  4  5  6\n",
      " 5  6  7  8  9 10 11       2  3  4  5  6  7  8       7  8  9 10 11 12 13\n",
      "12 13 14 15 16 17 18       9 10 11 12 13 14 15      14 15 16 17 18 19 20\n",
      "19 20 21 22 23 24 25      16 17 18 19 20 21 22      21 22 23 24 25 26 27\n",
      "26 27 28 29 30 31         23 24 25 26 27 28 29      28 29 30 31\n",
      "                          30\n",
      "\n"
     ]
    }
   ],
   "source": [
    "import calendar\n",
    "\n",
    "year = 2020\n",
    "print(calendar.calendar(year))"
   ]
  },
  {
   "cell_type": "markdown",
   "id": "6b789ba7",
   "metadata": {},
   "source": [
    "**4. Write a Python program to solve quadratic equation?**<br>\n",
    "Sol."
   ]
  },
  {
   "cell_type": "code",
   "execution_count": 39,
   "id": "2d5bddd6",
   "metadata": {},
   "outputs": [
    {
     "name": "stdout",
     "output_type": "stream",
     "text": [
      "ax^2 + bx^1 + c = 0\n",
      "Enter the coeff a, b and constant c\n",
      "Enter the coeff a: 1\n",
      "Enter the coeff b: -9\n",
      "Enter the constant c: 14\n",
      "\n",
      "For quad eq. 1x^2 + (-9)x^1 + 14\n",
      "The solutions are: 7.0 and 2.0\n"
     ]
    }
   ],
   "source": [
    "import math\n",
    "\n",
    "print(\"ax^2 + bx^1 + c = 0\")\n",
    "print(\"Enter the coeff a, b and constant c\")\n",
    "\n",
    "a = int(input((\"Enter the coeff a: \")))\n",
    "b = int(input((\"Enter the coeff b: \")))\n",
    "c = int(input((\"Enter the constant c: \")))\n",
    "\n",
    "d = (b**2) - (4*a*c)\n",
    "\n",
    "root1 = ((-1*b)+(math.sqrt(d))) / (2*a)\n",
    "root2 = ((-1*b)-(math.sqrt(d))) / (2*a)\n",
    "\n",
    "print('\\nFor quad eq. {}x^2 + ({})x^1 + {}'.format(a,b,c))\n",
    "print('The solutions are: {} and {}'.format(root1, root2))\n"
   ]
  },
  {
   "cell_type": "markdown",
   "id": "8fe2df3f",
   "metadata": {},
   "source": [
    "**5. Write a Python program to swap two variables without temp variable?**<br>\n",
    "Sol."
   ]
  },
  {
   "cell_type": "code",
   "execution_count": 29,
   "id": "3e793cec",
   "metadata": {},
   "outputs": [
    {
     "name": "stdout",
     "output_type": "stream",
     "text": [
      "value of a and b is  8  , 10\n"
     ]
    }
   ],
   "source": [
    "a=10\n",
    "b=8\n",
    "a=a+b\n",
    "b=a-b\n",
    "a=a-b\n",
    "print(\"value of a and b is \",a,\" ,\",b)"
   ]
  }
 ],
 "metadata": {
  "kernelspec": {
   "display_name": "Python 3 (ipykernel)",
   "language": "python",
   "name": "python3"
  },
  "language_info": {
   "codemirror_mode": {
    "name": "ipython",
    "version": 3
   },
   "file_extension": ".py",
   "mimetype": "text/x-python",
   "name": "python",
   "nbconvert_exporter": "python",
   "pygments_lexer": "ipython3",
   "version": "3.9.12"
  }
 },
 "nbformat": 4,
 "nbformat_minor": 5
}
