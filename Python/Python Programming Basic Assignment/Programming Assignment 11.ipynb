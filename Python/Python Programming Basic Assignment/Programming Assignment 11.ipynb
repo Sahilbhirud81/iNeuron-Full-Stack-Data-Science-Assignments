{
 "cells": [
  {
   "cell_type": "markdown",
   "id": "5097a575",
   "metadata": {},
   "source": [
    "# Assignment 11 Solutions"
   ]
  },
  {
   "cell_type": "markdown",
   "id": "dfd1fa5a",
   "metadata": {},
   "source": [
    "**1. Write a Python program to find words which are greater than given length k ?**"
   ]
  },
  {
   "cell_type": "code",
   "execution_count": 1,
   "id": "0093e91c",
   "metadata": {},
   "outputs": [
    {
     "name": "stdout",
     "output_type": "stream",
     "text": [
      "Enter the string: \n",
      "  @media print {\n",
      "    .ms-editor-squiggles-container {\n",
      "      display:none !important;\n",
      "    }\n",
      "  }\n",
      "  .ms-editor-squiggles-container {\n",
      "    all: initial;\n",
      "  }INeuron Full Stack Data Science Course\n",
      "Enter the length of the string: 3\n",
      "INeuron,Full,Stack,Data,Science,Course\n"
     ]
    }
   ],
   "source": [
    "def checkLengthOfString():\n",
    "    in_string = input(\"Enter the string: \")\n",
    "    in_length = int(input('Enter the length of the string: '))\n",
    "    out_string = []\n",
    "    for string in in_string.split(\" \"):\n",
    "        if len(string) > in_length:\n",
    "            out_string.append(string)\n",
    "    print(','.join(out_string))\n",
    "\n",
    "checkLengthOfString()"
   ]
  },
  {
   "cell_type": "markdown",
   "id": "cd534fe7",
   "metadata": {},
   "source": [
    "**2. Write a Python program for removing i-th character from a string ?**"
   ]
  },
  {
   "cell_type": "code",
   "execution_count": 2,
   "id": "aab519cf",
   "metadata": {},
   "outputs": [
    {
     "name": "stdout",
     "output_type": "stream",
     "text": [
      "Enter the String: asus\n",
      "Enter the ith Character: 3\n",
      "asu\n"
     ]
    }
   ],
   "source": [
    "def removeCharacter():\n",
    "    in_string = input(\"Enter the String: \")\n",
    "    in_char_num = int(input(\"Enter the ith Character: \"))\n",
    "    out_string = ''\n",
    "    for ele in range(len(in_string)):\n",
    "        if ele != in_char_num:\n",
    "            out_string = out_string + in_string[ele]\n",
    "    print(out_string)\n",
    "    \n",
    "removeCharacter()"
   ]
  },
  {
   "cell_type": "markdown",
   "id": "0fd726cd",
   "metadata": {},
   "source": [
    "**3. Write a Python program to split and join a string ?**"
   ]
  },
  {
   "cell_type": "code",
   "execution_count": 5,
   "id": "1cf68c1e",
   "metadata": {},
   "outputs": [
    {
     "name": "stdout",
     "output_type": "stream",
     "text": [
      "Enter the string: \n",
      "  @media print {\n",
      "    .ms-editor-squiggles-container {\n",
      "      display:none !important;\n",
      "    }\n",
      "  }\n",
      "  .ms-editor-squiggles-container {\n",
      "    all: initial;\n",
      "  }ineuron full stack data science\n",
      "Split String: ['ineuron', 'full', 'stack', 'data', 'science']\n",
      "Join String: ineuron full stack data science\n"
     ]
    }
   ],
   "source": [
    "def splitJoinString():\n",
    "    in_string = input('Enter the string: ')\n",
    "    print(f\"Split String: {in_string.split(' ')}\")\n",
    "    print(f\"Join String: {' '.join(in_string.split(' '))}\")\n",
    "\n",
    "splitJoinString()"
   ]
  },
  {
   "cell_type": "markdown",
   "id": "3d6fe570",
   "metadata": {},
   "source": [
    "**4. Write a Python to check if a given string is binary string or not ?**"
   ]
  },
  {
   "cell_type": "code",
   "execution_count": 7,
   "id": "a944d8e8",
   "metadata": {},
   "outputs": [
    {
     "name": "stdout",
     "output_type": "stream",
     "text": [
      "Enter the string: 010101\n",
      "010101 is a binary string\n",
      "Enter the string: 615\n",
      "615 is not a binary string\n"
     ]
    }
   ],
   "source": [
    "def checkBinary():\n",
    "    in_string = input('Enter the string: ')\n",
    "    stun = 0\n",
    "    for ele in in_string:\n",
    "        if ele in ['0','1']:\n",
    "            stun = 1\n",
    "            continue\n",
    "        else:\n",
    "            stun = 0\n",
    "            break\n",
    "    statement = 'is a binary string' if stun == 1 else 'is not a binary string' \n",
    "    print(f'{in_string} {statement}')\n",
    "\n",
    "checkBinary()\n",
    "checkBinary()"
   ]
  },
  {
   "cell_type": "markdown",
   "id": "b6597295",
   "metadata": {},
   "source": [
    "**5. Write a Python program to find uncommon words from two Strings ?**"
   ]
  },
  {
   "cell_type": "code",
   "execution_count": 13,
   "id": "c3b083f0",
   "metadata": {},
   "outputs": [
    {
     "name": "stdout",
     "output_type": "stream",
     "text": [
      "Enter the String 1: Supervised Learning\n",
      "Enter the String 2: Unsupervised Learning\n",
      "{'Unsupervised', 'Supervised'}\n"
     ]
    }
   ],
   "source": [
    "def unCommonWords():\n",
    "    in_string_1 = set(input(\"Enter the String 1: \").split(' '))\n",
    "    in_string_2 = set(input(\"Enter the String 2: \").split(' '))\n",
    "    out_string = (in_string_1.union(in_string_2)).difference(in_string_1.intersection(in_string_2))\n",
    "    print(out_string)\n",
    "\n",
    "unCommonWords()"
   ]
  },
  {
   "cell_type": "markdown",
   "id": "c4b5e12c",
   "metadata": {},
   "source": [
    "**6. Write a Python to find all duplicate characters in string ?**"
   ]
  },
  {
   "cell_type": "code",
   "execution_count": 14,
   "id": "4c2fc572",
   "metadata": {},
   "outputs": [
    {
     "name": "stdout",
     "output_type": "stream",
     "text": [
      "Enter the string: full stack data science\n",
      "Duplicate characters are: ['t', 'e', 's', 'l', 'a', ' ', 'c']\n"
     ]
    }
   ],
   "source": [
    "def duplicateChars():\n",
    "    in_string = input('Enter the string: ')\n",
    "    non_duplicate_list = []\n",
    "    duplicate_list = []\n",
    "    for ele in in_string:\n",
    "        if ele not in non_duplicate_list:\n",
    "            non_duplicate_list.append(ele)\n",
    "        else:\n",
    "            duplicate_list.append(ele)\n",
    "    print(f'Duplicate characters are: {list(set(duplicate_list))}')\n",
    "        \n",
    "duplicateChars()\n"
   ]
  },
  {
   "cell_type": "markdown",
   "id": "115c69d1",
   "metadata": {},
   "source": [
    "**7. Write a Python Program to check if a string contains any special character?**"
   ]
  },
  {
   "cell_type": "code",
   "execution_count": 1,
   "id": "3b227e2d",
   "metadata": {},
   "outputs": [
    {
     "name": "stdout",
     "output_type": "stream",
     "text": [
      "Enter the string: \n",
      "  @media print {\n",
      "    .ms-editor-squiggles-container {\n",
      "      display:none !important;\n",
      "    }\n",
      "  }\n",
      "  .ms-editor-squiggles-container {\n",
      "    all: initial;\n",
      "  }DS @ Ineuron by Sudhanshu & krish\n",
      "There are 2 Speical Characters in DS @ Ineuron by Sudhanshu & krish which are ['@', '&']\n",
      "Enter the string: Full Metal Alchemist : Brotherhood\n",
      "There are 1 Speical Characters in Full Metal Alchemist : Brotherhood which are [':']\n"
     ]
    }
   ],
   "source": [
    "def checkSpecialChar():\n",
    "    spl_chars = '[@_!#$%^&*()<>?/\\|}{~:]'\n",
    "    in_num = input('Enter the string: ')\n",
    "    count = 0\n",
    "    char_list = []\n",
    "    for ele in in_num:\n",
    "        if ele in spl_chars:\n",
    "            char_list.append(ele)\n",
    "            count = count+1\n",
    "    print(f'There are {count} Speical Characters in {in_num} which are {char_list}')\n",
    "            \n",
    "        \n",
    "checkSpecialChar()\n",
    "checkSpecialChar()\n"
   ]
  },
  {
   "cell_type": "code",
   "execution_count": null,
   "id": "bfce8bac",
   "metadata": {},
   "outputs": [],
   "source": []
  }
 ],
 "metadata": {
  "kernelspec": {
   "display_name": "Python 3 (ipykernel)",
   "language": "python",
   "name": "python3"
  },
  "language_info": {
   "codemirror_mode": {
    "name": "ipython",
    "version": 3
   },
   "file_extension": ".py",
   "mimetype": "text/x-python",
   "name": "python",
   "nbconvert_exporter": "python",
   "pygments_lexer": "ipython3",
   "version": "3.9.12"
  }
 },
 "nbformat": 4,
 "nbformat_minor": 5
}
